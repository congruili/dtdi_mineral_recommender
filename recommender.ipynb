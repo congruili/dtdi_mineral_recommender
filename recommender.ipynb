{
 "cells": [
  {
   "cell_type": "code",
   "execution_count": 1,
   "metadata": {
    "collapsed": true
   },
   "outputs": [],
   "source": [
    "__author__ = 'Congrui_Li'"
   ]
  },
  {
   "cell_type": "code",
   "execution_count": 2,
   "metadata": {
    "collapsed": true
   },
   "outputs": [],
   "source": [
    "import numpy as np\n",
    "import scipy as sp\n",
    "import pandas as pd"
   ]
  },
  {
   "cell_type": "code",
   "execution_count": 3,
   "metadata": {
    "collapsed": false
   },
   "outputs": [
    {
     "data": {
      "text/plain": [
       "'1.0.0'"
      ]
     },
     "execution_count": 3,
     "metadata": {},
     "output_type": "execute_result"
    }
   ],
   "source": [
    "sp.__version__"
   ]
  },
  {
   "cell_type": "code",
   "execution_count": 4,
   "metadata": {
    "collapsed": true
   },
   "outputs": [],
   "source": [
    "data = np.genfromtxt('Min_USA.csv', dtype=float, delimiter=',', skip_header=1) "
   ]
  },
  {
   "cell_type": "code",
   "execution_count": 5,
   "metadata": {
    "collapsed": false
   },
   "outputs": [
    {
     "data": {
      "text/plain": [
       "(82866, 2473)"
      ]
     },
     "execution_count": 5,
     "metadata": {},
     "output_type": "execute_result"
    }
   ],
   "source": [
    "data.shape"
   ]
  },
  {
   "cell_type": "code",
   "execution_count": 6,
   "metadata": {
    "collapsed": false
   },
   "outputs": [],
   "source": [
    "import csv\n",
    "with open('Min_USA.csv', 'rb') as f:\n",
    "    col_names = next(csv.reader(f))"
   ]
  },
  {
   "cell_type": "code",
   "execution_count": 7,
   "metadata": {
    "collapsed": false,
    "scrolled": true
   },
   "outputs": [
    {
     "data": {
      "text/plain": [
       "2473"
      ]
     },
     "execution_count": 7,
     "metadata": {},
     "output_type": "execute_result"
    }
   ],
   "source": [
    "len(col_names)"
   ]
  },
  {
   "cell_type": "code",
   "execution_count": 9,
   "metadata": {
    "collapsed": false
   },
   "outputs": [],
   "source": [
    "from scipy import sparse"
   ]
  },
  {
   "cell_type": "code",
   "execution_count": 10,
   "metadata": {
    "collapsed": false
   },
   "outputs": [],
   "source": [
    "data_sparse = sparse.csc_matrix(data)"
   ]
  },
  {
   "cell_type": "code",
   "execution_count": 11,
   "metadata": {
    "collapsed": true
   },
   "outputs": [],
   "source": [
    "# efficient Jaccard similarity calculation\n",
    "def jaccard_similarities(mat):\n",
    "    cols_sum = mat.getnnz(axis=0)\n",
    "    ab = mat.T * mat\n",
    "\n",
    "    # for rows\n",
    "    aa = np.repeat(cols_sum, ab.getnnz(axis=0))\n",
    "    # for columns\n",
    "    bb = cols_sum[ab.indices]\n",
    "\n",
    "    similarities = ab.copy()\n",
    "    similarities.data /= (aa + bb - ab.data)\n",
    "\n",
    "    return similarities"
   ]
  },
  {
   "cell_type": "code",
   "execution_count": 12,
   "metadata": {
    "collapsed": false
   },
   "outputs": [],
   "source": [
    "jaccard_mat = jaccard_similarities(data_sparse)"
   ]
  },
  {
   "cell_type": "code",
   "execution_count": 13,
   "metadata": {
    "collapsed": true
   },
   "outputs": [],
   "source": [
    "# turn it back into numpy array\n",
    "jaccard_arr = jaccard_mat.A"
   ]
  },
  {
   "cell_type": "code",
   "execution_count": 14,
   "metadata": {
    "collapsed": true
   },
   "outputs": [],
   "source": [
    "# turn it into pandas dataframe with row and col names\n",
    "jaccard_df = pd.DataFrame(jaccard_arr, index=col_names, columns=col_names)"
   ]
  },
  {
   "cell_type": "code",
   "execution_count": 15,
   "metadata": {
    "collapsed": false
   },
   "outputs": [
    {
     "data": {
      "text/plain": [
       "(2473, 2473)"
      ]
     },
     "execution_count": 15,
     "metadata": {},
     "output_type": "execute_result"
    }
   ],
   "source": [
    "jaccard_df.shape"
   ]
  },
  {
   "cell_type": "code",
   "execution_count": 16,
   "metadata": {
    "collapsed": true
   },
   "outputs": [],
   "source": [
    "jaccard_df.to_csv(\"jaccard_similarities.csv\")"
   ]
  },
  {
   "cell_type": "code",
   "execution_count": 17,
   "metadata": {
    "collapsed": false,
    "scrolled": true
   },
   "outputs": [
    {
     "name": "stdout",
     "output_type": "stream",
     "text": [
      "['mineral', 'mineral_1', 'similarity_1', 'mineral_2', 'similarity_2', 'mineral_3', 'similarity_3', 'mineral_4', 'similarity_4', 'mineral_5', 'similarity_5', 'mineral_6', 'similarity_6', 'mineral_7', 'similarity_7', 'mineral_8', 'similarity_8', 'mineral_9', 'similarity_9', 'mineral_10', 'similarity_10']\n"
     ]
    }
   ],
   "source": [
    "rst_col_names = []\n",
    "rst_col_names.append(\"mineral\")\n",
    "\n",
    "for i in range(10): \n",
    "    i += 1\n",
    "    rst_col_names.append(\"mineral_%d\" % i)\n",
    "    rst_col_names.append(\"similarity_%d\" % i)\n",
    "\n",
    "print rst_col_names   "
   ]
  },
  {
   "cell_type": "code",
   "execution_count": 18,
   "metadata": {
    "collapsed": false,
    "scrolled": false
   },
   "outputs": [],
   "source": [
    "with open(\"jaccard_bottom10.csv\", \"w\") as jb10_csv:\n",
    "    jb10_csv.write(\",\".join(rst_col_names) + \"\\n\")\n",
    "    for i in range(jaccard_arr.shape[0]):\n",
    "        sorted_row = np.argsort(jaccard_arr[i,:])\n",
    "        cur_row = []\n",
    "        cur_row.append(col_names[i])\n",
    "        for j in range(10):\n",
    "            cur_ind = sorted_row[j] \n",
    "            if cur_ind == i:\n",
    "                print(\"warning!!! same mineral in bottom 10!!!\")            \n",
    "            cur_row.append( col_names[cur_ind] )\n",
    "            cur_row.append( str(jaccard_arr[i,cur_ind]) )\n",
    "\n",
    "        jb10_csv.write(\",\".join(cur_row) + \"\\n\")\n",
    "        \n",
    "jb10_csv.close()             "
   ]
  },
  {
   "cell_type": "code",
   "execution_count": null,
   "metadata": {
    "collapsed": false
   },
   "outputs": [],
   "source": [
    "with open(\"jaccard_top10.csv\", \"w\") as jt10_csv:\n",
    "    jt10_csv.write(\",\".join(rst_col_names) + \"\\n\")\n",
    "    for i in range(jaccard_arr.shape[0]):\n",
    "        sorted_row = np.argsort(jaccard_arr[i,:])[::-1]\n",
    "        cur_row = []\n",
    "        cur_row.append(col_names[i])\n",
    "        for j in range(11):\n",
    "            cur_ind = sorted_row[j]\n",
    "            # the similarity between a mineral and itself would always be the largest, which is 1.0, skip this situation\n",
    "            if cur_ind == i:\n",
    "                continue\n",
    "            cur_row.append( col_names[cur_ind] )\n",
    "            cur_row.append( str(jaccard_arr[i,cur_ind]) )\n",
    "            \n",
    "        cur_row = cur_row[:21]\n",
    "        jt10_csv.write(\",\".join(cur_row) + \"\\n\")\n",
    "        \n",
    "jt10_csv.close() "
   ]
  },
  {
   "cell_type": "code",
   "execution_count": null,
   "metadata": {
    "collapsed": true
   },
   "outputs": [],
   "source": [
    "import sklearn.preprocessing as pp"
   ]
  },
  {
   "cell_type": "code",
   "execution_count": null,
   "metadata": {
    "collapsed": true
   },
   "outputs": [],
   "source": [
    "# efficient cosine similarity calculation\n",
    "def cosine_similarities(mat):\n",
    "    col_normed_mat = pp.normalize(mat.tocsc(), axis=0)\n",
    "    return col_normed_mat.T * col_normed_mat"
   ]
  },
  {
   "cell_type": "code",
   "execution_count": null,
   "metadata": {
    "collapsed": true
   },
   "outputs": [],
   "source": [
    "cosine_mat = cosine_similarities(data_sparse)"
   ]
  },
  {
   "cell_type": "code",
   "execution_count": null,
   "metadata": {
    "collapsed": true
   },
   "outputs": [],
   "source": [
    "# turn it back into numpy array\n",
    "cosine_arr = cosine_mat.A"
   ]
  },
  {
   "cell_type": "code",
   "execution_count": null,
   "metadata": {
    "collapsed": true
   },
   "outputs": [],
   "source": [
    "# turn it into pandas dataframe with row and col names\n",
    "cosine_df = pd.DataFrame(cosine_arr, index=col_names, columns=col_names)"
   ]
  },
  {
   "cell_type": "code",
   "execution_count": null,
   "metadata": {
    "collapsed": false
   },
   "outputs": [],
   "source": [
    "cosine_df.shape"
   ]
  },
  {
   "cell_type": "code",
   "execution_count": null,
   "metadata": {
    "collapsed": true
   },
   "outputs": [],
   "source": [
    "cosine_df.to_csv(\"cosine_similarities.csv\")"
   ]
  },
  {
   "cell_type": "code",
   "execution_count": null,
   "metadata": {
    "collapsed": true
   },
   "outputs": [],
   "source": [
    "with open(\"cosine_bottom10.csv\", \"w\") as cb10_csv:\n",
    "    cb10_csv.write(\",\".join(rst_col_names) + \"\\n\")\n",
    "    for i in range(cosine_arr.shape[0]):\n",
    "        sorted_row = np.argsort(cosine_arr[i,:])\n",
    "        cur_row = []\n",
    "        cur_row.append(col_names[i])\n",
    "        for j in range(10):\n",
    "            cur_ind = sorted_row[j] \n",
    "            if cur_ind == i:\n",
    "                print(\"warning!!! same mineral in bottom 10!!!\")            \n",
    "            cur_row.append( col_names[cur_ind] )\n",
    "            cur_row.append( str(cosine_arr[i,cur_ind]) )\n",
    "\n",
    "        cb10_csv.write(\",\".join(cur_row) + \"\\n\")\n",
    "        \n",
    "cb10_csv.close() "
   ]
  },
  {
   "cell_type": "code",
   "execution_count": null,
   "metadata": {
    "collapsed": true
   },
   "outputs": [],
   "source": [
    "with open(\"cosine_top10.csv\", \"w\") as ct10_csv:\n",
    "    ct10_csv.write(\",\".join(rst_col_names) + \"\\n\")\n",
    "    for i in range(cosine_arr.shape[0]):\n",
    "        sorted_row = np.argsort(cosine_arr[i,:])[::-1]\n",
    "        cur_row = []\n",
    "        cur_row.append(col_names[i])\n",
    "        for j in range(11):\n",
    "            cur_ind = sorted_row[j]\n",
    "            # the similarity between a mineral and itself would always be the largest, which is 1.0, skip this situation\n",
    "            if cur_ind == i:\n",
    "                continue\n",
    "            cur_row.append( col_names[cur_ind] )\n",
    "            cur_row.append( str(cosine_arr[i,cur_ind]) )\n",
    "            \n",
    "        cur_row = cur_row[:21]\n",
    "        ct10_csv.write(\",\".join(cur_row) + \"\\n\")\n",
    "        \n",
    "ct10_csv.close() "
   ]
  },
  {
   "cell_type": "code",
   "execution_count": null,
   "metadata": {
    "collapsed": true
   },
   "outputs": [],
   "source": []
  }
 ],
 "metadata": {
  "kernelspec": {
   "display_name": "Python 2",
   "language": "python",
   "name": "python2"
  },
  "language_info": {
   "codemirror_mode": {
    "name": "ipython",
    "version": 2
   },
   "file_extension": ".py",
   "mimetype": "text/x-python",
   "name": "python",
   "nbconvert_exporter": "python",
   "pygments_lexer": "ipython2",
   "version": "2.7.10"
  }
 },
 "nbformat": 4,
 "nbformat_minor": 0
}
